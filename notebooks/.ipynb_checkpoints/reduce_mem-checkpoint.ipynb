{
 "cells": [
  {
   "cell_type": "markdown",
   "metadata": {},
   "source": [
    "# Reduce memory usage of large CSV files"
   ]
  },
  {
   "cell_type": "code",
   "execution_count": 1,
   "metadata": {},
   "outputs": [],
   "source": [
    "import pandas as pd\n",
    "import numpy as np"
   ]
  },
  {
   "cell_type": "code",
   "execution_count": 2,
   "metadata": {},
   "outputs": [],
   "source": [
    "adv = pd.read_csv(\"../data/advanced.csv\")\n",
    "prg = pd.read_csv(\"../data/per_game.csv\")"
   ]
  },
  {
   "cell_type": "code",
   "execution_count": 3,
   "metadata": {},
   "outputs": [],
   "source": [
    "def reduce_mem_usage(df):\n",
    "    start_memory = df.memory_usage().sum() / 1024**2\n",
    "    print(\"------------------------------------------------------------\")\n",
    "    print(\"Memory usage of dataframe is: \" + str(start_memory) + \" MB.\")\n",
    "    \n",
    "    for col in df.columns:\n",
    "        col_type = df[col].dtype\n",
    "        \n",
    "        if col_type != object:\n",
    "            col_min = df[col].min()\n",
    "            col_max = df[col].max()\n",
    "            if str(col_type)[:3] == 'int':\n",
    "                if col_min > np.iinfo(np.int8).min and col_max < np.iinfo(np.int8).max:\n",
    "                    df[col] = df[col].astype(np.int8)\n",
    "                elif col_min > np.iinfo(np.int16).min and col_max < np.iinfo(np.int16).max:\n",
    "                    df[col] = df[col].astype(np.int16)\n",
    "                elif col_min > np.iinfo(np.int32).min and col_max < np.iinfo(np.int32).max:\n",
    "                    df[col] = df[col].astype(np.int32)\n",
    "                elif col_min > np.iinfo(np.int64).min and col_max < np.iinfo(np.int64).max:\n",
    "                    df[col] = df[col].astype(np.int64)\n",
    "            else:\n",
    "                if col_min > np.finfo(np.float16).min and col_max < np.finfo(np.float16).max:\n",
    "                    df[col] = df[col].astype(np.float16)\n",
    "                elif col_min > np.finfo(np.float32).min and col_max < np.finfo(np.float32).max:\n",
    "                    df[col] = df[col].astype(np.float32)\n",
    "                else:\n",
    "                    df[col] = df[col].astype(np.float64)\n",
    "        else:\n",
    "            df[col] = df[col].astype(\"category\")\n",
    "    \n",
    "    end_memory = df.memory_usage().sum() / 1024**2\n",
    "    p_decrease = (start_memory - end_memory) / start_memory\n",
    "    print(\"Memory usage after optimization is: \" + str(end_memory) + \" MB.\")\n",
    "    print(\"Decreased memory by \" + str(p_decrease * 100) + \"%\")\n",
    "    print(\"------------------------------------------------------------\")"
   ]
  },
  {
   "cell_type": "code",
   "execution_count": 4,
   "metadata": {},
   "outputs": [
    {
     "name": "stdout",
     "output_type": "stream",
     "text": [
      "------------------------------------------------------------\n",
      "Memory usage of dataframe is: 2.8660888671875 MB.\n",
      "Memory usage after optimization is: 0.7522506713867188 MB.\n",
      "Decreased memory by 73.75340730014055%\n",
      "------------------------------------------------------------\n",
      "------------------------------------------------------------\n",
      "Memory usage of dataframe is: 3.17315673828125 MB.\n",
      "Memory usage after optimization is: 0.81622314453125 MB.\n",
      "Decreased memory by 74.27725095693319%\n",
      "------------------------------------------------------------\n"
     ]
    }
   ],
   "source": [
    "reduce_mem_usage(adv)\n",
    "reduce_mem_usage(prg)"
   ]
  },
  {
   "cell_type": "code",
   "execution_count": 5,
   "metadata": {},
   "outputs": [],
   "source": [
    "adv.to_pickle(\"../data/advanced.pkl\")\n",
    "prg.to_pickle(\"../data/per_game.pkl\")"
   ]
  },
  {
   "cell_type": "code",
   "execution_count": null,
   "metadata": {},
   "outputs": [],
   "source": []
  }
 ],
 "metadata": {
  "kernelspec": {
   "display_name": "Python 3",
   "language": "python",
   "name": "python3"
  },
  "language_info": {
   "codemirror_mode": {
    "name": "ipython",
    "version": 3
   },
   "file_extension": ".py",
   "mimetype": "text/x-python",
   "name": "python",
   "nbconvert_exporter": "python",
   "pygments_lexer": "ipython3",
   "version": "3.6.9"
  }
 },
 "nbformat": 4,
 "nbformat_minor": 2
}
