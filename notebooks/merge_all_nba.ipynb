{
 "cells": [
  {
   "cell_type": "markdown",
   "metadata": {},
   "source": [
    "# Merging All-NBA data with advanced and per game data\n",
    "\n",
    "- In this notebook we are simply adding a column to our advanced and per game datasets that will represent if a player was selected to an All-NBA team. The value will be a '1' for a first-team selection, '2' for a second-team selection, '3' for a third-team selection, and '0' by default."
   ]
  },
  {
   "cell_type": "code",
   "execution_count": 1,
   "metadata": {},
   "outputs": [],
   "source": [
    "# Load imports\n",
    "import numpy as np\n",
    "import pandas as pd"
   ]
  },
  {
   "cell_type": "markdown",
   "metadata": {},
   "source": [
    "- All-NBA data uses a string to represent the year, i.e. '2018-19'. We create a simple dictionary to map last two chars of season to numerical year. This allows for easier lookup into our stats datasets, since those use numerical years.\n",
    "- We do the same for our team, simple dictionary map from string to numerical"
   ]
  },
  {
   "cell_type": "code",
   "execution_count": 2,
   "metadata": {},
   "outputs": [],
   "source": [
    "# Year dictionary\n",
    "YEAR = {'19':2019, '18':2018, '17':2017, '16':2016, '15':2015, '14':2014,\n",
    "        '13':2013, '12':2012, '11':2011, '10':2010, '09':2009, '08':2008,\n",
    "        '07':2007, '06':2006, '05':2005, '04':2004, '03':2003, '02':2002,\n",
    "        '01':2001, '00':2000, '99':1999, '98':1998, '97':1997, '96':1996,\n",
    "        '95':1995, '94':1994, '93':1993, '92':1992, '91':1991, '90':1990}\n",
    "\n",
    "# Team dictionary\n",
    "TEAM = {'1st':1, '2nd':2, '3rd':3}"
   ]
  },
  {
   "cell_type": "markdown",
   "metadata": {},
   "source": [
    "- Read in our data. We only have statistical data from 1990, so we drop all-nba data from before then:"
   ]
  },
  {
   "cell_type": "code",
   "execution_count": 3,
   "metadata": {},
   "outputs": [
    {
     "data": {
      "text/html": [
       "<div>\n",
       "<style scoped>\n",
       "    .dataframe tbody tr th:only-of-type {\n",
       "        vertical-align: middle;\n",
       "    }\n",
       "\n",
       "    .dataframe tbody tr th {\n",
       "        vertical-align: top;\n",
       "    }\n",
       "\n",
       "    .dataframe thead th {\n",
       "        text-align: right;\n",
       "    }\n",
       "</style>\n",
       "<table border=\"1\" class=\"dataframe\">\n",
       "  <thead>\n",
       "    <tr style=\"text-align: right;\">\n",
       "      <th></th>\n",
       "      <th>Season</th>\n",
       "      <th>Lg</th>\n",
       "      <th>Tm</th>\n",
       "      <th>Unnamed: 3</th>\n",
       "      <th>Unnamed: 4</th>\n",
       "      <th>Unnamed: 5</th>\n",
       "      <th>Unnamed: 6</th>\n",
       "      <th>Unnamed: 7</th>\n",
       "    </tr>\n",
       "  </thead>\n",
       "  <tbody>\n",
       "    <tr>\n",
       "      <th>85</th>\n",
       "      <td>1990-91</td>\n",
       "      <td>NBA</td>\n",
       "      <td>2nd</td>\n",
       "      <td>Patrick Ewing</td>\n",
       "      <td>Chris Mullin</td>\n",
       "      <td>Dominique Wilkins</td>\n",
       "      <td>Clyde Drexler</td>\n",
       "      <td>Kevin Johnson</td>\n",
       "    </tr>\n",
       "    <tr>\n",
       "      <th>86</th>\n",
       "      <td>1990-91</td>\n",
       "      <td>NBA</td>\n",
       "      <td>3rd</td>\n",
       "      <td>Hakeem Olajuwon</td>\n",
       "      <td>Bernard King</td>\n",
       "      <td>James Worthy</td>\n",
       "      <td>Joe Dumars</td>\n",
       "      <td>John Stockton</td>\n",
       "    </tr>\n",
       "    <tr>\n",
       "      <th>87</th>\n",
       "      <td>1989-90</td>\n",
       "      <td>NBA</td>\n",
       "      <td>1st</td>\n",
       "      <td>Patrick Ewing</td>\n",
       "      <td>Charles Barkley</td>\n",
       "      <td>Karl Malone</td>\n",
       "      <td>Magic Johnson</td>\n",
       "      <td>Michael Jordan</td>\n",
       "    </tr>\n",
       "    <tr>\n",
       "      <th>88</th>\n",
       "      <td>1989-90</td>\n",
       "      <td>NBA</td>\n",
       "      <td>2nd</td>\n",
       "      <td>Hakeem Olajuwon</td>\n",
       "      <td>Larry Bird</td>\n",
       "      <td>Tom Chambers</td>\n",
       "      <td>Kevin Johnson</td>\n",
       "      <td>John Stockton</td>\n",
       "    </tr>\n",
       "    <tr>\n",
       "      <th>89</th>\n",
       "      <td>1989-90</td>\n",
       "      <td>NBA</td>\n",
       "      <td>3rd</td>\n",
       "      <td>David Robinson</td>\n",
       "      <td>Chris Mullin</td>\n",
       "      <td>James Worthy</td>\n",
       "      <td>Clyde Drexler</td>\n",
       "      <td>Joe Dumars</td>\n",
       "    </tr>\n",
       "  </tbody>\n",
       "</table>\n",
       "</div>"
      ],
      "text/plain": [
       "     Season   Lg   Tm       Unnamed: 3       Unnamed: 4         Unnamed: 5  \\\n",
       "85  1990-91  NBA  2nd    Patrick Ewing     Chris Mullin  Dominique Wilkins   \n",
       "86  1990-91  NBA  3rd  Hakeem Olajuwon     Bernard King       James Worthy   \n",
       "87  1989-90  NBA  1st    Patrick Ewing  Charles Barkley        Karl Malone   \n",
       "88  1989-90  NBA  2nd  Hakeem Olajuwon       Larry Bird       Tom Chambers   \n",
       "89  1989-90  NBA  3rd   David Robinson     Chris Mullin       James Worthy   \n",
       "\n",
       "       Unnamed: 6      Unnamed: 7  \n",
       "85  Clyde Drexler   Kevin Johnson  \n",
       "86     Joe Dumars   John Stockton  \n",
       "87  Magic Johnson  Michael Jordan  \n",
       "88  Kevin Johnson   John Stockton  \n",
       "89  Clyde Drexler      Joe Dumars  "
      ]
     },
     "execution_count": 3,
     "metadata": {},
     "output_type": "execute_result"
    }
   ],
   "source": [
    "# Read in data\n",
    "all_nba = pd.read_csv(\"../data/all_nba_teams.csv\")\n",
    "adv = pd.read_csv(\"../data/advanced.csv\")\n",
    "pgm = pd.read_csv(\"../data/per_game.csv\")\n",
    "\n",
    "# Drop all years before 1990 (last 18 rows)\n",
    "all_nba.drop(all_nba.tail(18).index,inplace=True) # drop last n rows\n",
    "\n",
    "# Double check (last three years should be from 89-90)\n",
    "all_nba.tail()"
   ]
  },
  {
   "cell_type": "markdown",
   "metadata": {},
   "source": [
    "- Add a column to our stat datasets to represent the all_nba team, set all to '0' by default"
   ]
  },
  {
   "cell_type": "code",
   "execution_count": 4,
   "metadata": {},
   "outputs": [],
   "source": [
    "# Add all_nba column to advanced and per games\n",
    "adv['All_NBA'] = 0\n",
    "pgm['All_NBA'] = 0"
   ]
  },
  {
   "cell_type": "markdown",
   "metadata": {},
   "source": [
    "### Iterate through our all_nba data and update the advanced and per_game datasets\n"
   ]
  },
  {
   "cell_type": "code",
   "execution_count": 5,
   "metadata": {},
   "outputs": [],
   "source": [
    "# This is a helper function that takes a season, list of players, and what team from \n",
    "# our All-NBA data, looks it up and updates column accordingle\n",
    "def update(year, players, team):\n",
    "    for player in players:\n",
    "        adv.loc[(adv['Season'] == year) & (adv['Player'] == player), 'All_NBA'] = TEAM[team]\n",
    "        pgm.loc[(pgm['Season'] == year) & (pgm['Player'] == player), 'All_NBA'] = TEAM[team]"
   ]
  },
  {
   "cell_type": "code",
   "execution_count": 6,
   "metadata": {},
   "outputs": [],
   "source": [
    "# Iterate through all rows in all-nba data and call update to update advanced and per_game datasets\n",
    "for index, row in all_nba.iterrows():\n",
    "    season = YEAR[row['Season'][-2:]]\n",
    "    players = [row[3], row[4], row[5], row[6], row[7]]\n",
    "    team = row[2]\n",
    "    update(season, players, team)"
   ]
  },
  {
   "cell_type": "code",
   "execution_count": 7,
   "metadata": {},
   "outputs": [],
   "source": [
    "# Save data\n",
    "adv.to_csv(\"../data/advanced.csv\", index=False)\n",
    "pgm.to_csv(\"../data/per_game.csv\", index=False)"
   ]
  }
 ],
 "metadata": {
  "kernelspec": {
   "display_name": "Python 3",
   "language": "python",
   "name": "python3"
  },
  "language_info": {
   "codemirror_mode": {
    "name": "ipython",
    "version": 3
   },
   "file_extension": ".py",
   "mimetype": "text/x-python",
   "name": "python",
   "nbconvert_exporter": "python",
   "pygments_lexer": "ipython3",
   "version": "3.7.6"
  }
 },
 "nbformat": 4,
 "nbformat_minor": 4
}
